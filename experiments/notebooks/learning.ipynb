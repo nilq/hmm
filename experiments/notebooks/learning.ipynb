{
 "cells": [
  {
   "attachments": {},
   "cell_type": "markdown",
   "metadata": {},
   "source": [
    "# Learning"
   ]
  },
  {
   "cell_type": "code",
   "execution_count": 12,
   "metadata": {},
   "outputs": [],
   "source": [
    "from hmm.hmm import HMM\n",
    "from hmm.learning import hard_assignment_em, learn_parameters_everything_observed\n",
    "from hmm.types import IntArray\n",
    "\n",
    "import numpy as np"
   ]
  },
  {
   "cell_type": "code",
   "execution_count": 13,
   "metadata": {},
   "outputs": [],
   "source": [
    "gamma = 0.5\n",
    "beta = 0.8\n",
    "alpha = 0.6\n",
    "rates = [1, 20]\n",
    "\n",
    "# This is uppercase-gamma.\n",
    "transition_matrix = np.array(\n",
    "    [[1 - gamma, 0, gamma], [0, 1 - gamma, gamma], [beta / 2, beta / 2, 1 - beta]]\n",
    ")"
   ]
  },
  {
   "cell_type": "code",
   "execution_count": 14,
   "metadata": {},
   "outputs": [],
   "source": [
    "hmm = HMM(transition_matrix, alpha, processing_modes=[0, 1, 2], rates=rates)"
   ]
  },
  {
   "attachments": {},
   "cell_type": "markdown",
   "metadata": {},
   "source": [
    "### Simulated data"
   ]
  },
  {
   "cell_type": "code",
   "execution_count": 15,
   "metadata": {},
   "outputs": [],
   "source": [
    "num_nodes = 8\n",
    "time_steps = 1000\n",
    "initial_c = 2"
   ]
  },
  {
   "cell_type": "code",
   "execution_count": 16,
   "metadata": {},
   "outputs": [],
   "source": [
    "observed_processing_modes, observed_focus, observed_stimuli = hmm.forward(\n",
    "    num_nodes,\n",
    "    time_steps,\n",
    "    initial_c,\n",
    ")"
   ]
  },
  {
   "attachments": {},
   "cell_type": "markdown",
   "metadata": {},
   "source": [
    "### Learning with everything observed"
   ]
  },
  {
   "cell_type": "code",
   "execution_count": 17,
   "metadata": {},
   "outputs": [],
   "source": [
    "# This is necessary for mask computation.\n",
    "observed_processing_modes: IntArray = np.array(observed_processing_modes)"
   ]
  },
  {
   "cell_type": "code",
   "execution_count": 18,
   "metadata": {},
   "outputs": [
    {
     "name": "stdout",
     "output_type": "stream",
     "text": [
      "[0 0 1 ... 0 1 1]\n",
      "1509 2536\n"
     ]
    }
   ],
   "source": [
    "(\n",
    "    lambda_0_hat,\n",
    "    lambda_1_hat,\n",
    "    learned_alpha,\n",
    "    learned_beta,\n",
    "    learned_gamma\n",
    ") = learn_parameters_everything_observed(\n",
    "    observed_processing_modes,\n",
    "    observed_focus,\n",
    "    observed_stimuli\n",
    ")"
   ]
  },
  {
   "cell_type": "code",
   "execution_count": 19,
   "metadata": {},
   "outputs": [
    {
     "data": {
      "text/plain": [
       "(1000, 8)"
      ]
     },
     "execution_count": 19,
     "metadata": {},
     "output_type": "execute_result"
    }
   ],
   "source": [
    "observed_focus.shape"
   ]
  },
  {
   "attachments": {},
   "cell_type": "markdown",
   "metadata": {},
   "source": [
    "Learned parameters ..."
   ]
  },
  {
   "cell_type": "code",
   "execution_count": 20,
   "metadata": {},
   "outputs": [],
   "source": [
    "learned_rates = [lambda_0_hat, lambda_1_hat]\n",
    "learned_transition_matrix = np.array(\n",
    "    [[1 - learned_gamma, 0, learned_gamma],\n",
    "     [0, 1 - learned_gamma, learned_gamma],\n",
    "     [learned_beta / 2, learned_beta / 2, 1 - learned_beta]]\n",
    ")"
   ]
  },
  {
   "cell_type": "code",
   "execution_count": 21,
   "metadata": {},
   "outputs": [],
   "source": [
    "learned_hmm = HMM(\n",
    "    transition=learned_transition_matrix,\n",
    "    alpha=learned_alpha,\n",
    "    processing_modes=hmm.processing_modes,\n",
    "    rates=learned_rates\n",
    ")"
   ]
  },
  {
   "cell_type": "code",
   "execution_count": 22,
   "metadata": {},
   "outputs": [
    {
     "name": "stdout",
     "output_type": "stream",
     "text": [
      "[0 0 1 ... 0 1 1]\n",
      "1851 2736\n",
      "[1 0 0 1 1 1 1 1 1 1 1 0 1 0 1 0 0 1 1 1 0 1 1 0 1 1 1 0 0 0 1 0 0 0 1 0 1\n",
      " 1 1 1 0 1 1 0 1 1 1 1 1 1 0 1 1 1 1 0 0 1 1 1 1 0 1 1 0 1 1 1 1 0 1 0 1 0\n",
      " 1 0 1 1 1 1 1 1 1 1 1 1 1 1 1 1 0 1 1 1 1 1 0 1 1 1 1 0 0 1 1 1 0 1 1 1 1\n",
      " 1 1 1 1 1 1 0 0 1 0 1 0 0 1 0 1 0 1 1 1 0 0 1 0 1 1 1 1 0 1 0 1 0 0 0 1 1\n",
      " 1 1 1 0 0 1 1 1 1 0 1 1 1 1 1 0 1 1 0 0 1 1 1 1 1 1 1 1 1 1 0 1 0 1 0 1 1\n",
      " 1 1 1 1 1 0 0 1 0 1 1 1 0 1 0 1 0 1 0 0 1 1 1 1 1 1 1 1 1 0 1 0 1 1 1 1 1\n",
      " 0 0 1 1 1 1 1 1 1 0 1 1 1 1 0 1 0 1 1 0 0 1 1 1 1 0 1 1 1 1 1 1 0 1 1 0 1\n",
      " 0 1 1 0 1 0 1 1 1 0 0 0 1 1 1 0 1 1 1 0 1 0 1 0 1 0 1 1 1 1 1 1 1 0 1 1 1\n",
      " 0 1 1 0 1 1 0 1 0 1 1 0 1 1 0 1 1 1 1 1 0 0 1 1 0 1 0 1 1 1 0 1 1 1 1 0 1\n",
      " 1 1 1 0 0 0 1 1 1 0 1 0 1 1 1 0 1 0 1 1 1 1 1 0 1 1 1 1 1 0 1 1 1 0 1 1 0\n",
      " 1 1 1 1 0 1 1 0 1 1 0 0 1 1 1 0 1 1 1 1 1 0 1 1 1 0 1 0 1 1 1 1 0 1 1 1 0\n",
      " 1 1 1 1 1 1 1 1 1 0 1 1 1 1 1 1 0 0 1 0 1 1 1 1 1 1 1 0 0 1 0 0 1 1 0 0 1\n",
      " 1 0 1 1 1 1 1 1 1 1 1 0 1 0 1 1 1 1 1 1 1 1 0 1 0 0 1 0 0 1 1 1 1 1 1 0 0\n",
      " 1 1 1 1 1 1 1 1 1 1 1 0 1 1 0 0 1 0 1 1 0 1 1 1 0 1 0 0 0 1 1 1 1 1 1 0 1\n",
      " 1 0 0 0 1 0 0 1 1 1 1 0 1 1 1 1 0 0 1 1 1 1 0 0 0 0 0 1 1 0 1 1 1 1 0 0 0\n",
      " 1 0 1 1 0 1 1 1 1 0 0 0 1 1 0 0 0 1 1 0 1 0 1 1 0 0 0 1 1 1 1 1 1 0 1 0 1\n",
      " 0 0 0 1 0 1 0 1 0 1 1 1 1 1 1 1 1 1 1 1 1 0 1 1 1 1 1 0 1 0 1 1 1 0 1 1 1\n",
      " 1 0 1 0 0 1 0 0 1 1 1 0 0 1 0 1 1 0 1 1 0 1 1 1 0 0 1 0 1 1 1 1 1 0 1 0 0\n",
      " 0 1 1 1 1 1 1 1 1 0 0 0 1 1 1 0 0 1 0 0 1 1 1 0 0 0 0 1 1 0 0 1 1 0 0 1 0\n",
      " 1 1 1 1 1 0 1 0 1 1 0 1 1 0 0 1 0 1 1 0 0 1 0 0 0 1 1 1 1 0 1 1 1 0 1 0 1\n",
      " 0 1 1 1 1 1 0 1 1 1 1 1 1 0 0 0 1 0 0 0 1 1 1 0 1 1 1 1 1 1 1 0 0 1 1 1 1\n",
      " 0 1 0 1 1 1 1 0 1 1 1 1 1 1 1 0 1 1 1 0 0 1 1 1 1 1 0 1 1 1 1 1 0 1 1 0 1\n",
      " 0 0 1 1 1 1 1 1 0 0 1 1 1 1 1 1 1 1 1 0 0 0 1 1 1 0 0 1 0 1 0 1 0 1 0 0 1\n",
      " 1 1 1 0 0 1 1 1 1 1 1 0 1 1 1 1 1 1 0 0 1 0 1 1 0 0 1 0 0 1 1 1 1 1 1 1 1\n",
      " 0 1 0 1 0 1 1 1 1 1 0 1 0 0 0 1 0 0 1 1 1 1 1 0 1 0 0 1 1 0 1 0 1 1 1 1 0\n",
      " 0 1 1 1 1 0 1 1 1 1 0 1 1 1 1 0 1 1 0 1 1 1 1 1 1 1 1]\n",
      "649 952\n",
      "[1 1 1 0 1 1 1 1 1 1 1 0 0 0 0 0 1 1 0 0 1 1 1 1 1 1 0 0 0 1 1 1 1 1 0 1 1\n",
      " 1 1 1 0 0 1 1 1 0 1 0 1 0 0 1 0 0 1 1 0 1 1 0 0 0 0 0 0 1 0 1 0 0 1 0 0 0\n",
      " 1 0 0 1 1 0 0 0 0 0 1 0 0 1 0 1 1 1 1 0 0 1 1 1 0 1 1 1 1 1 1 1 1 1 1 0 0\n",
      " 1 0 1 0 0 1 0 1 0 1 1 1 0 0 1 0 1 1 1 1 0 1 0 1 0 0 0 1 1 1 1 1 0 0 1 1 1\n",
      " 1 0 1 1 1 1 1 0 1 1 0 0 1 1 1 1 1 1 1 1 1 1 0 1 0 1 0 1 1 1 1 1 1 1 0 0 1\n",
      " 0 1 1 1 0 1 0 1 0 1 0 0 1 1 1 1 1 1 1 1 1 0 1 0 1 1 1 1 1 0 0]\n",
      "134 216\n",
      "[1 1 1 1 0 1 0 0 0 1 0 0 1 1 1 0 0 0 0 1 1 1 1 1 0 1 1 1 0 0 1 0 1 0 1 1 0\n",
      " 1 0 0 0 0 0 1 1 0 0 0 1 1 1 1 1 1 0 0 1 1 1 1 1 1 1 1 1 0 0 0 1 1 1 0 0 1\n",
      " 0 1 0 1 0 1 0 0 1 1 1 1 0 0 1 1 1 1 1 1 0 1 1 1 1 1 1 0 0 1 0 1 1 0 0 1 0\n",
      " 0 1 1 1 1 1 1 1 1 0 1 0 1 0 1 1 1 1 1 0 1 0 0 0 1 0 0 1 1 1 1 1 0 1 0 0 1\n",
      " 1 0 1 0 1 1 1 1 0 0 1 1 1 1 0 1 1 1 1 0 1 1 1 1 0 1 1 0 0 0 1 1 1 1 0 1 0\n",
      " 0 1 0 0 0 1 0 0 0 1 0 0 1 1 1 0 0 1 1 1 0 1 0 1 0 1 1 0 1 1 1 1 1 1 1 1 1\n",
      " 1 1 1 0 0 1 0 1 0 0 0 1 0 0 1 1 0 1 1 0 0 0 1 0 0 1 1 0 1 0 0 0 1 0 1 1 1\n",
      " 1 1 0 1 1]\n",
      "159 264\n",
      "[1 1 1 1 0 1 0 0 0 1 0 0 1 1 1 0 0 0 0 1 1 1 1 1 0 1 1 1 0 0 1 0 1 0 1 1 0\n",
      " 1 0 0 0 0 0 1 1 0 0 0 1 1 1 1 1 1 0 0 1 1 1 1 1 1 1 1 1 0 0 0 1 1 1 0 0 1\n",
      " 0 1 0 1 0 1 0 0 1 1 1 1 0 0 1 1 1 1 1 1 0 1 1 1 1 1 1 0 0 1 0 1 1 0 0 1 0\n",
      " 0 1 1 1 1 1 1 1 1 0 1 0 1 0 1 1 1 1 1 0 1 0 0 0 1 0 0 1 1 1 1 1 0 1 0 0 1\n",
      " 1 0 1 0 1 1 1 1 0 0 1 1 1 1 0 1 1 1 1 0 1 1 1 1 0 1 1 0 0 0 1 1 1 1 0 1 0\n",
      " 0 1 0 0 0 1 0 0 0 1 0 0 1 1 1 0 0 1 1 1 0 1 0 1 0 1 1 0 1 1 1 1 1 1 1 1 1\n",
      " 1 1 1 0 0 1 0 1 0 0 0 1 0 0 1 1 0 1 1 0 0 0 1 0 0 1 1 0 1 0 0 0 1 0 1 1 1\n",
      " 1 1 0 1 1]\n",
      "159 264\n",
      "Found good after 4 iterations!\n"
     ]
    }
   ],
   "source": [
    "learned_hmm = hard_assignment_em(observed_stimuli, observed_focus, HMM(transition_matrix, alpha, processing_modes=[0, 1, 2], rates=rates))"
   ]
  },
  {
   "cell_type": "code",
   "execution_count": 23,
   "metadata": {},
   "outputs": [
    {
     "name": "stdout",
     "output_type": "stream",
     "text": [
      "True alpha: 0.6, Learned alpha: 0.6022727272727273\n",
      "True rates: [1, 20], Learned rates: [0.9855951478392722, 19.971555775414295]\n",
      "True transition matrix:\n",
      "[[0.5 0.  0.5]\n",
      " [0.  0.5 0.5]\n",
      " [0.4 0.4 0.2]]\n",
      "Learned transition matrix:\n",
      "[[0.996997 0.       0.003003]\n",
      " [0.       0.996997 0.003003]\n",
      " [0.001001 0.001001 0.997998]]\n"
     ]
    }
   ],
   "source": [
    "print(f\"True alpha: {hmm.alpha}, Learned alpha: {learned_hmm.alpha}\")\n",
    "print(f\"True rates: {hmm.rates}, Learned rates: {learned_hmm.rates}\")\n",
    "print(f\"True transition matrix:\\n{hmm.transition}\")\n",
    "print(f\"Learned transition matrix:\\n{learned_hmm.transition}\")"
   ]
  },
  {
   "attachments": {},
   "cell_type": "markdown",
   "metadata": {},
   "source": [
    "### Testing the learned model (everything observed)"
   ]
  },
  {
   "cell_type": "code",
   "execution_count": 24,
   "metadata": {},
   "outputs": [],
   "source": [
    "true_processing_modes, true_focus, observations = hmm.forward(\n",
    "    num_nodes,\n",
    "    time_steps,\n",
    "    initial_c,\n",
    ")"
   ]
  },
  {
   "cell_type": "code",
   "execution_count": 25,
   "metadata": {},
   "outputs": [],
   "source": [
    "original_marginals_c, original_marginals_z = hmm.nielslief_propagation(observations)\n",
    "learned_marginals_c, learned_marginals_z = learned_hmm.nielslief_propagation(observations)"
   ]
  },
  {
   "cell_type": "code",
   "execution_count": 26,
   "metadata": {},
   "outputs": [],
   "source": [
    "original_marginals_c, original_marginals_z = hmm.nielslief_propagation(observations)\n",
    "learned_marginals_c, learned_marginals_z = learned_hmm.nielslief_propagation(observations)"
   ]
  },
  {
   "cell_type": "code",
   "execution_count": 27,
   "metadata": {},
   "outputs": [],
   "source": [
    "def check_correctness(marginals_c, marginals_z, hmm_to_use) -> None:\n",
    "    estimated_C = np.argmax(marginals_c, axis=1)\n",
    "    # Compute the most likely Z given the estimated C\n",
    "    estimated_Z = np.zeros((time_steps, num_nodes), dtype=int)\n",
    "\n",
    "    for t, c in enumerate(estimated_C):\n",
    "        estimated_Z[t] = hmm_to_use.sample_hidden_z(num_nodes, c)\n",
    "\n",
    "    correct_C = np.sum(np.equal(estimated_C, true_processing_modes)) / (time_steps - 1)\n",
    "    correct_Z = np.sum(true_focus == estimated_Z) / (time_steps * num_nodes)\n",
    "\n",
    "    print(f\"Proportion of correct C estimations: {correct_C:.2f}\")\n",
    "    print(f\"Proportion of correct Z estimations: {correct_Z:.2f}\")"
   ]
  },
  {
   "cell_type": "code",
   "execution_count": 28,
   "metadata": {},
   "outputs": [
    {
     "name": "stdout",
     "output_type": "stream",
     "text": [
      "Proportion of correct C estimations: 0.49\n",
      "Proportion of correct Z estimations: 0.53\n",
      "Proportion of correct C estimations: 0.38\n",
      "Proportion of correct Z estimations: 0.49\n"
     ]
    }
   ],
   "source": [
    "check_correctness(original_marginals_c, original_marginals_z, hmm)\n",
    "check_correctness(learned_marginals_c, learned_marginals_z, learned_hmm)"
   ]
  },
  {
   "cell_type": "code",
   "execution_count": 29,
   "metadata": {},
   "outputs": [
    {
     "ename": "ValueError",
     "evalue": "operands could not be broadcast together with shapes (100,) (1000,) ",
     "output_type": "error",
     "traceback": [
      "\u001b[0;31m---------------------------------------------------------------------------\u001b[0m",
      "\u001b[0;31mValueError\u001b[0m                                Traceback (most recent call last)",
      "Cell \u001b[0;32mIn[29], line 5\u001b[0m\n\u001b[1;32m      1\u001b[0m training_data \u001b[39m=\u001b[39m np\u001b[39m.\u001b[39mgenfromtxt(\u001b[39m\"\u001b[39m\u001b[39m../../data/Ex_1.csv\u001b[39m\u001b[39m\"\u001b[39m, delimiter\u001b[39m=\u001b[39m\u001b[39m\"\u001b[39m\u001b[39m,\u001b[39m\u001b[39m\"\u001b[39m ,dtype\u001b[39m=\u001b[39m\u001b[39mint\u001b[39m)[\u001b[39m1\u001b[39m:, \u001b[39m1\u001b[39m:]\n\u001b[1;32m      3\u001b[0m original_marginals_c, original_marginals_z \u001b[39m=\u001b[39m hmm\u001b[39m.\u001b[39mnielslief_propagation(training_data)\n\u001b[0;32m----> 5\u001b[0m check_correctness(original_marginals_c, original_marginals_z, learned_hmm)\n",
      "Cell \u001b[0;32mIn[27], line 9\u001b[0m, in \u001b[0;36mcheck_correctness\u001b[0;34m(marginals_c, marginals_z, hmm_to_use)\u001b[0m\n\u001b[1;32m      6\u001b[0m \u001b[39mfor\u001b[39;00m t, c \u001b[39min\u001b[39;00m \u001b[39menumerate\u001b[39m(estimated_C):\n\u001b[1;32m      7\u001b[0m     estimated_Z[t] \u001b[39m=\u001b[39m hmm_to_use\u001b[39m.\u001b[39msample_hidden_z(num_nodes, c)\n\u001b[0;32m----> 9\u001b[0m correct_C \u001b[39m=\u001b[39m np\u001b[39m.\u001b[39msum(np\u001b[39m.\u001b[39;49mequal(estimated_C, true_processing_modes)) \u001b[39m/\u001b[39m (time_steps \u001b[39m-\u001b[39m \u001b[39m1\u001b[39m)\n\u001b[1;32m     10\u001b[0m correct_Z \u001b[39m=\u001b[39m np\u001b[39m.\u001b[39msum(true_focus \u001b[39m==\u001b[39m estimated_Z) \u001b[39m/\u001b[39m (time_steps \u001b[39m*\u001b[39m num_nodes)\n\u001b[1;32m     12\u001b[0m \u001b[39mprint\u001b[39m(\u001b[39mf\u001b[39m\u001b[39m\"\u001b[39m\u001b[39mProportion of correct C estimations: \u001b[39m\u001b[39m{\u001b[39;00mcorrect_C\u001b[39m:\u001b[39;00m\u001b[39m.2f\u001b[39m\u001b[39m}\u001b[39;00m\u001b[39m\"\u001b[39m)\n",
      "\u001b[0;31mValueError\u001b[0m: operands could not be broadcast together with shapes (100,) (1000,) "
     ]
    }
   ],
   "source": [
    "training_data = np.genfromtxt(\"../../data/Ex_1.csv\", delimiter=\",\" ,dtype=int)[1:, 1:]\n",
    "\n",
    "original_marginals_c, original_marginals_z = hmm.nielslief_propagation(training_data)\n",
    "\n",
    "check_correctness(original_marginals_c, original_marginals_z, learned_hmm)"
   ]
  },
  {
   "attachments": {},
   "cell_type": "markdown",
   "metadata": {},
   "source": [
    "## Learning just from $\\textbf{X}$ (full learning)"
   ]
  },
  {
   "attachments": {},
   "cell_type": "markdown",
   "metadata": {},
   "source": [
    "Compute $\\hat{Z}_{t,i} = \\argmax_z P(Z_{t,i} = z | \\textbf{X} = \\textbf{x})$ and $\\hat{C}_t = \\argmax_z P(C_t = z | \\textbf{X} = \\textbf{x})$"
   ]
  },
  {
   "cell_type": "code",
   "execution_count": null,
   "metadata": {},
   "outputs": [],
   "source": [
    "# Whatever. We're just using some joint-prob, taking from above. :)\n",
    "z_hat, c_hat = hmm.nielslief_propagation(training_data)"
   ]
  },
  {
   "cell_type": "code",
   "execution_count": null,
   "metadata": {},
   "outputs": [
    {
     "data": {
      "text/plain": [
       "array([[[           nan,            nan],\n",
       "        [           nan,            nan],\n",
       "        [           nan,            nan],\n",
       "        ...,\n",
       "        [           nan,            nan],\n",
       "        [           nan,            nan],\n",
       "        [           nan,            nan]],\n",
       "\n",
       "       [[9.99761761e-01, 2.38238645e-04],\n",
       "        [9.99546836e-01, 4.53163638e-04],\n",
       "        [6.96979083e-01, 3.03020917e-01],\n",
       "        ...,\n",
       "        [6.96979076e-01, 3.03020924e-01],\n",
       "        [9.97465135e-01, 2.53486468e-03],\n",
       "        [9.99546836e-01, 4.53163638e-04]],\n",
       "\n",
       "       [[9.47340821e-01, 5.26591788e-02],\n",
       "        [9.86833363e-01, 1.31666373e-02],\n",
       "        [9.47340821e-01, 5.26591788e-02],\n",
       "        ...,\n",
       "        [9.86833363e-01, 1.31666373e-02],\n",
       "        [9.99863423e-01, 1.36577216e-04],\n",
       "        [8.42023569e-01, 1.57976431e-01]],\n",
       "\n",
       "       ...,\n",
       "\n",
       "       [[9.99531414e-01, 4.68585705e-04],\n",
       "        [9.86651045e-01, 1.33489553e-02],\n",
       "        [9.99822914e-01, 1.77085656e-04],\n",
       "        ...,\n",
       "        [9.86651045e-01, 1.33489553e-02],\n",
       "        [6.79667695e-01, 3.20332305e-01],\n",
       "        [8.39833794e-01, 1.60166206e-01]],\n",
       "\n",
       "       [[9.46285061e-01, 5.37149386e-02],\n",
       "        [9.46285061e-01, 5.37149386e-02],\n",
       "        [9.97307458e-01, 2.69254168e-03],\n",
       "        ...,\n",
       "        [9.86569648e-01, 1.34303524e-02],\n",
       "        [9.86569648e-01, 1.34303524e-02],\n",
       "        [6.77712407e-01, 3.22287593e-01]],\n",
       "\n",
       "       [[9.45096860e-01, 5.49031398e-02],\n",
       "        [8.35291400e-01, 1.64708600e-01],\n",
       "        [9.45096860e-01, 5.49031398e-02],\n",
       "        ...,\n",
       "        [9.86272850e-01, 1.37271498e-02],\n",
       "        [8.35291400e-01, 1.64708600e-01],\n",
       "        [6.70582881e-01, 3.29417119e-01]]])"
      ]
     },
     "execution_count": 20,
     "metadata": {},
     "output_type": "execute_result"
    }
   ],
   "source": [
    "c_hat"
   ]
  },
  {
   "attachments": {},
   "cell_type": "markdown",
   "metadata": {},
   "source": [
    "Learning ..."
   ]
  },
  {
   "cell_type": "code",
   "execution_count": null,
   "metadata": {},
   "outputs": [],
   "source": [
    "epochs: int = 10 # lol."
   ]
  },
  {
   "cell_type": "code",
   "execution_count": null,
   "metadata": {},
   "outputs": [],
   "source": [
    "hmm = HMM(transition_matrix, alpha, processing_modes=[0, 1, 2], rates=rates)"
   ]
  },
  {
   "cell_type": "code",
   "execution_count": null,
   "metadata": {},
   "outputs": [
    {
     "ename": "AttributeError",
     "evalue": "'HMM' object has no attribute 'infer'",
     "output_type": "error",
     "traceback": [
      "\u001b[0;31m---------------------------------------------------------------------------\u001b[0m",
      "\u001b[0;31mAttributeError\u001b[0m                            Traceback (most recent call last)",
      "Cell \u001b[0;32mIn[23], line 2\u001b[0m\n\u001b[1;32m      1\u001b[0m \u001b[39mfor\u001b[39;00m _ \u001b[39min\u001b[39;00m \u001b[39mrange\u001b[39m(epochs):\n\u001b[0;32m----> 2\u001b[0m     joint_prob \u001b[39m=\u001b[39m hmm\u001b[39m.\u001b[39;49minfer(observations)\n\u001b[1;32m      3\u001b[0m     z_hat, c_hat \u001b[39m=\u001b[39m expectation_maximisation_hard_assignment(joint_prob, num_nodes\u001b[39m=\u001b[39mnum_nodes)\n\u001b[1;32m      5\u001b[0m     (\n\u001b[1;32m      6\u001b[0m         lambda_0_hat,\n\u001b[1;32m      7\u001b[0m         lambda_1_hat,\n\u001b[0;32m   (...)\u001b[0m\n\u001b[1;32m     14\u001b[0m         observations[:\u001b[39m-\u001b[39m\u001b[39m1\u001b[39m]\n\u001b[1;32m     15\u001b[0m     )\n",
      "\u001b[0;31mAttributeError\u001b[0m: 'HMM' object has no attribute 'infer'"
     ]
    }
   ],
   "source": [
    "for _ in range(epochs):\n",
    "    joint_prob = hmm.infer(observations)\n",
    "    z_hat, c_hat = expectation_maximisation_hard_assignment(joint_prob, num_nodes=num_nodes)\n",
    "\n",
    "    (\n",
    "        lambda_0_hat,\n",
    "        lambda_1_hat,\n",
    "        learned_alpha,\n",
    "        learned_beta,\n",
    "        learned_gamma\n",
    "    ) = learn_parameters_everything_observed(\n",
    "        c_hat,\n",
    "        z_hat,\n",
    "        observations[:-1]\n",
    "    )\n",
    "\n",
    "    learned_rates = [lambda_0_hat, lambda_1_hat]\n",
    "    learned_transition_matrix = np.array(\n",
    "        [[1 - learned_gamma, 0, learned_gamma],\n",
    "        [0, 1 - learned_gamma, learned_gamma],\n",
    "        [learned_beta / 2, learned_beta / 2, 1 - learned_beta]]\n",
    "    )\n",
    "\n",
    "    hmm = HMM(learned_transition_matrix, alpha=learned_alpha, processing_modes=hmm.states, rates=learned_rates)\n"
   ]
  },
  {
   "cell_type": "code",
   "execution_count": null,
   "metadata": {},
   "outputs": [
    {
     "ename": "",
     "evalue": "",
     "output_type": "error",
     "traceback": [
      "\u001b[1;31mFailed to start the Kernel. \n",
      "\u001b[1;31mCannot execute code, session has been disposed. \n",
      "\u001b[1;31mView Jupyter <a href='command:jupyter.viewOutput'>log</a> for further details."
     ]
    }
   ],
   "source": [
    "learned_joint_prob = hmm.infer(observations)"
   ]
  },
  {
   "cell_type": "code",
   "execution_count": null,
   "metadata": {},
   "outputs": [
    {
     "ename": "",
     "evalue": "",
     "output_type": "error",
     "traceback": [
      "\u001b[1;31mFailed to start the Kernel. \n",
      "\u001b[1;31mCannot execute code, session has been disposed. \n",
      "\u001b[1;31mView Jupyter <a href='command:jupyter.viewOutput'>log</a> for further details."
     ]
    }
   ],
   "source": [
    "marginal_prob_C = np.sum(learned_joint_prob, axis=2)\n",
    "\n",
    "estimated_C = np.argmax(marginal_prob_C, axis=1)\n",
    "estimated_Z = np.zeros((time_steps, num_nodes), dtype=int)\n",
    "\n",
    "for t, c in enumerate(estimated_C):\n",
    "    estimated_Z[t] = hmm.sample_hidden_z(num_nodes, c)\n",
    "\n",
    "correct_C = np.sum(np.equal(estimated_C, true_processing_modes[:-1])) / (time_steps - 1)\n",
    "correct_Z = np.sum(estimated_Z == true_focus) / ((time_steps - 1) * num_nodes)\n",
    "\n",
    "print(f\"Proportion of correct C estimations: {correct_C:.2f}\")\n",
    "print(f\"Proportion of correct Z estimations: {correct_Z:.2f}\")"
   ]
  },
  {
   "cell_type": "code",
   "execution_count": null,
   "metadata": {},
   "outputs": [
    {
     "ename": "",
     "evalue": "",
     "output_type": "error",
     "traceback": [
      "\u001b[1;31mFailed to start the Kernel. \n",
      "\u001b[1;31mCannot execute code, session has been disposed. \n",
      "\u001b[1;31mView Jupyter <a href='command:jupyter.viewOutput'>log</a> for further details."
     ]
    }
   ],
   "source": []
  }
 ],
 "metadata": {
  "kernelspec": {
   "display_name": "hmm",
   "language": "python",
   "name": "python3"
  },
  "language_info": {
   "codemirror_mode": {
    "name": "ipython",
    "version": 3
   },
   "file_extension": ".py",
   "mimetype": "text/x-python",
   "name": "python",
   "nbconvert_exporter": "python",
   "pygments_lexer": "ipython3",
   "version": "3.10.9"
  },
  "orig_nbformat": 4,
  "vscode": {
   "interpreter": {
    "hash": "d4379472f3a660c7857acec9d80a0eff9746fc7b3b3d0fd4e2cf71dae9af0e1f"
   }
  }
 },
 "nbformat": 4,
 "nbformat_minor": 2
}
