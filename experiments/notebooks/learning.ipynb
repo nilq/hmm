{
 "cells": [
  {
   "attachments": {},
   "cell_type": "markdown",
   "metadata": {},
   "source": [
    "# Learning"
   ]
  },
  {
   "cell_type": "code",
   "execution_count": 47,
   "metadata": {},
   "outputs": [],
   "source": [
    "from hmm.hmm import HMM\n",
    "from hmm.learning import hard_assignment_em, learn_parameters_everything_observed\n",
    "from hmm.types import IntArray\n",
    "\n",
    "import numpy as np"
   ]
  },
  {
   "cell_type": "code",
   "execution_count": 48,
   "metadata": {},
   "outputs": [],
   "source": [
    "gamma = 0.1\n",
    "beta = 0.2\n",
    "alpha = 0.9\n",
    "rates = [1, 5]\n",
    "\n",
    "# This is uppercase-gamma.\n",
    "transition_matrix = np.array(\n",
    "    [[1 - gamma, 0, gamma], [0, 1 - gamma, gamma], [beta / 2, beta / 2, 1 - beta]]\n",
    ")"
   ]
  },
  {
   "cell_type": "code",
   "execution_count": 49,
   "metadata": {},
   "outputs": [],
   "source": [
    "hmm = HMM(transition_matrix, alpha, processing_modes=[0, 1, 2], rates=rates)"
   ]
  },
  {
   "attachments": {},
   "cell_type": "markdown",
   "metadata": {},
   "source": [
    "### Simulated data"
   ]
  },
  {
   "cell_type": "code",
   "execution_count": 50,
   "metadata": {},
   "outputs": [],
   "source": [
    "num_nodes = 8\n",
    "time_steps = 1000\n",
    "initial_c = 2"
   ]
  },
  {
   "cell_type": "code",
   "execution_count": 51,
   "metadata": {},
   "outputs": [],
   "source": [
    "observed_processing_modes, observed_focus, observed_stimuli = hmm.forward(\n",
    "    num_nodes,\n",
    "    time_steps,\n",
    "    initial_c,\n",
    ")"
   ]
  },
  {
   "attachments": {},
   "cell_type": "markdown",
   "metadata": {},
   "source": [
    "### Learning with everything observed"
   ]
  },
  {
   "cell_type": "code",
   "execution_count": 52,
   "metadata": {},
   "outputs": [],
   "source": [
    "# This is necessary for mask computation.\n",
    "observed_processing_modes: IntArray = np.array(observed_processing_modes)"
   ]
  },
  {
   "cell_type": "code",
   "execution_count": 53,
   "metadata": {},
   "outputs": [],
   "source": [
    "(\n",
    "    lambda_0_hat,\n",
    "    lambda_1_hat,\n",
    "    learned_alpha,\n",
    "    learned_beta,\n",
    "    learned_gamma\n",
    ") = learn_parameters_everything_observed(\n",
    "    observed_processing_modes,\n",
    "    observed_focus,\n",
    "    observed_stimuli\n",
    ")"
   ]
  },
  {
   "cell_type": "code",
   "execution_count": 54,
   "metadata": {},
   "outputs": [
    {
     "data": {
      "text/plain": [
       "(1000, 8)"
      ]
     },
     "execution_count": 54,
     "metadata": {},
     "output_type": "execute_result"
    }
   ],
   "source": [
    "observed_focus.shape"
   ]
  },
  {
   "attachments": {},
   "cell_type": "markdown",
   "metadata": {},
   "source": [
    "Learned parameters ..."
   ]
  },
  {
   "cell_type": "code",
   "execution_count": 55,
   "metadata": {},
   "outputs": [],
   "source": [
    "learned_rates = [lambda_0_hat, lambda_1_hat]\n",
    "learned_transition_matrix = np.array(\n",
    "    [[1 - learned_gamma, 0, learned_gamma],\n",
    "     [0, 1 - learned_gamma, learned_gamma],\n",
    "     [learned_beta / 2, learned_beta / 2, 1 - learned_beta]]\n",
    ")"
   ]
  },
  {
   "cell_type": "code",
   "execution_count": 56,
   "metadata": {},
   "outputs": [],
   "source": [
    "learned_hmm = HMM(\n",
    "    transition=learned_transition_matrix,\n",
    "    alpha=learned_alpha,\n",
    "    processing_modes=hmm.processing_modes,\n",
    "    rates=learned_rates\n",
    ")"
   ]
  },
  {
   "cell_type": "code",
   "execution_count": 57,
   "metadata": {},
   "outputs": [
    {
     "name": "stdout",
     "output_type": "stream",
     "text": [
      "Found good after 4 iterations!\n"
     ]
    }
   ],
   "source": [
    "learned_hmm = hard_assignment_em(observed_stimuli, observed_focus, HMM(transition_matrix, alpha, processing_modes=[0, 1, 2], rates=rates))"
   ]
  },
  {
   "cell_type": "code",
   "execution_count": 58,
   "metadata": {},
   "outputs": [
    {
     "name": "stdout",
     "output_type": "stream",
     "text": [
      "True alpha: 0.9, Learned alpha: 0.8761961722488039\n",
      "True rates: [1, 5], Learned rates: [0.991123439667129, 4.953356086461889]\n",
      "True beta: 0.7, Learned beta: 0.6899441340782123\n",
      "True gamma: 0.4, Learned gamma: 0.3837753510140406\n",
      "True transition matrix:\n",
      "[[0.6  0.   0.4 ]\n",
      " [0.   0.6  0.4 ]\n",
      " [0.35 0.35 0.3 ]]\n",
      "Learned transition matrix:\n",
      "[[0.68292683 0.         0.31707317]\n",
      " [0.         0.68292683 0.31707317]\n",
      " [0.37205387 0.37205387 0.25589226]]\n"
     ]
    }
   ],
   "source": [
    "print(f\"True alpha: {hmm.alpha}, Learned alpha: {learned_hmm.alpha}\")\n",
    "print(f\"True rates: {hmm.rates}, Learned rates: {learned_hmm.rates}\")\n",
    "print(f\"True beta: {beta}, Learned beta: {learned_beta}\")\n",
    "print(f\"True gamma: {gamma}, Learned gamma: {learned_gamma}\")\n",
    "print(f\"True transition matrix:\\n{hmm.transition}\")\n",
    "print(f\"Learned transition matrix:\\n{learned_hmm.transition}\")"
   ]
  },
  {
   "attachments": {},
   "cell_type": "markdown",
   "metadata": {},
   "source": [
    "### Testing the learned model (everything observed)"
   ]
  },
  {
   "cell_type": "code",
   "execution_count": 59,
   "metadata": {},
   "outputs": [],
   "source": [
    "true_processing_modes, true_focus, observations = hmm.forward(\n",
    "    num_nodes,\n",
    "    time_steps,\n",
    "    initial_c,\n",
    ")"
   ]
  },
  {
   "cell_type": "code",
   "execution_count": 60,
   "metadata": {},
   "outputs": [],
   "source": [
    "original_marginals_c, original_marginals_z = hmm.nielslief_propagation(observations)\n",
    "learned_marginals_c, learned_marginals_z = learned_hmm.nielslief_propagation(observations)"
   ]
  },
  {
   "cell_type": "code",
   "execution_count": 61,
   "metadata": {},
   "outputs": [],
   "source": [
    "original_marginals_c, original_marginals_z = hmm.nielslief_propagation(observations)\n",
    "learned_marginals_c, learned_marginals_z = learned_hmm.nielslief_propagation(observations)"
   ]
  },
  {
   "cell_type": "code",
   "execution_count": 62,
   "metadata": {},
   "outputs": [],
   "source": [
    "def check_correctness(marginals_c, marginals_z, hmm_to_use) -> None:\n",
    "    estimated_C = np.argmax(marginals_c, axis=1)\n",
    "    # Compute the most likely Z given the estimated C\n",
    "    estimated_Z = np.zeros((time_steps, num_nodes), dtype=int)\n",
    "\n",
    "    for t, c in enumerate(estimated_C):\n",
    "        estimated_Z[t] = hmm_to_use.sample_hidden_z(num_nodes, c)\n",
    "\n",
    "    correct_C = np.sum(np.equal(estimated_C, true_processing_modes)) / (time_steps - 1)\n",
    "    correct_Z = np.sum(true_focus == estimated_Z) / (time_steps * num_nodes)\n",
    "\n",
    "    print(f\"Proportion of correct C estimations: {correct_C:.2f}\")\n",
    "    print(f\"Proportion of correct Z estimations: {correct_Z:.2f}\")"
   ]
  },
  {
   "cell_type": "code",
   "execution_count": 63,
   "metadata": {},
   "outputs": [
    {
     "name": "stdout",
     "output_type": "stream",
     "text": [
      "Proportion of correct C estimations: 0.86\n",
      "Proportion of correct Z estimations: 0.70\n",
      "Proportion of correct C estimations: 0.86\n",
      "Proportion of correct Z estimations: 0.70\n"
     ]
    }
   ],
   "source": [
    "check_correctness(original_marginals_c, original_marginals_z, hmm)\n",
    "check_correctness(learned_marginals_c, learned_marginals_z, learned_hmm)"
   ]
  },
  {
   "cell_type": "code",
   "execution_count": 64,
   "metadata": {},
   "outputs": [
    {
     "ename": "ValueError",
     "evalue": "operands could not be broadcast together with shapes (100,) (1000,) ",
     "output_type": "error",
     "traceback": [
      "\u001B[0;31m---------------------------------------------------------------------------\u001B[0m",
      "\u001B[0;31mValueError\u001B[0m                                Traceback (most recent call last)",
      "Cell \u001B[0;32mIn[64], line 5\u001B[0m\n\u001B[1;32m      1\u001B[0m training_data \u001B[39m=\u001B[39m np\u001B[39m.\u001B[39mgenfromtxt(\u001B[39m\"\u001B[39m\u001B[39m../../data/Ex_1.csv\u001B[39m\u001B[39m\"\u001B[39m, delimiter\u001B[39m=\u001B[39m\u001B[39m\"\u001B[39m\u001B[39m,\u001B[39m\u001B[39m\"\u001B[39m ,dtype\u001B[39m=\u001B[39m\u001B[39mint\u001B[39m)[\u001B[39m1\u001B[39m:, \u001B[39m1\u001B[39m:]\n\u001B[1;32m      3\u001B[0m original_marginals_c, original_marginals_z \u001B[39m=\u001B[39m hmm\u001B[39m.\u001B[39mnielslief_propagation(training_data)\n\u001B[0;32m----> 5\u001B[0m check_correctness(original_marginals_c, original_marginals_z, learned_hmm)\n",
      "Cell \u001B[0;32mIn[62], line 9\u001B[0m, in \u001B[0;36mcheck_correctness\u001B[0;34m(marginals_c, marginals_z, hmm_to_use)\u001B[0m\n\u001B[1;32m      6\u001B[0m \u001B[39mfor\u001B[39;00m t, c \u001B[39min\u001B[39;00m \u001B[39menumerate\u001B[39m(estimated_C):\n\u001B[1;32m      7\u001B[0m     estimated_Z[t] \u001B[39m=\u001B[39m hmm_to_use\u001B[39m.\u001B[39msample_hidden_z(num_nodes, c)\n\u001B[0;32m----> 9\u001B[0m correct_C \u001B[39m=\u001B[39m np\u001B[39m.\u001B[39msum(np\u001B[39m.\u001B[39;49mequal(estimated_C, true_processing_modes)) \u001B[39m/\u001B[39m (time_steps \u001B[39m-\u001B[39m \u001B[39m1\u001B[39m)\n\u001B[1;32m     10\u001B[0m correct_Z \u001B[39m=\u001B[39m np\u001B[39m.\u001B[39msum(true_focus \u001B[39m==\u001B[39m estimated_Z) \u001B[39m/\u001B[39m (time_steps \u001B[39m*\u001B[39m num_nodes)\n\u001B[1;32m     12\u001B[0m \u001B[39mprint\u001B[39m(\u001B[39mf\u001B[39m\u001B[39m\"\u001B[39m\u001B[39mProportion of correct C estimations: \u001B[39m\u001B[39m{\u001B[39;00mcorrect_C\u001B[39m:\u001B[39;00m\u001B[39m.2f\u001B[39m\u001B[39m}\u001B[39;00m\u001B[39m\"\u001B[39m)\n",
      "\u001B[0;31mValueError\u001B[0m: operands could not be broadcast together with shapes (100,) (1000,) "
     ]
    }
   ],
   "source": [
    "training_data = np.genfromtxt(\"../../data/Ex_1.csv\", delimiter=\",\" ,dtype=int)[1:, 1:]\n",
    "\n",
    "original_marginals_c, original_marginals_z = hmm.nielslief_propagation(training_data)\n",
    "\n",
    "check_correctness(original_marginals_c, original_marginals_z, learned_hmm)"
   ]
  },
  {
   "attachments": {},
   "cell_type": "markdown",
   "metadata": {},
   "source": [
    "## Learning just from $\\textbf{X}$ (full learning)"
   ]
  },
  {
   "attachments": {},
   "cell_type": "markdown",
   "metadata": {},
   "source": [
    "Compute $\\hat{Z}_{t,i} = \\argmax_z P(Z_{t,i} = z | \\textbf{X} = \\textbf{x})$ and $\\hat{C}_t = \\argmax_z P(C_t = z | \\textbf{X} = \\textbf{x})$"
   ]
  },
  {
   "cell_type": "code",
   "execution_count": null,
   "metadata": {},
   "outputs": [],
   "source": [
    "# Whatever. We're just using some joint-prob, taking from above. :)\n",
    "z_hat, c_hat = hmm.nielslief_propagation(training_data)"
   ]
  },
  {
   "cell_type": "code",
   "execution_count": null,
   "metadata": {},
   "outputs": [
    {
     "data": {
      "text/plain": [
       "array([[[       nan,        nan],\n",
       "        [       nan,        nan],\n",
       "        [       nan,        nan],\n",
       "        ...,\n",
       "        [       nan,        nan],\n",
       "        [       nan,        nan],\n",
       "        [       nan,        nan]],\n",
       "\n",
       "       [[0.94585607, 0.05414393],\n",
       "        [0.87863392, 0.12136608],\n",
       "        [0.93165557, 0.06834443],\n",
       "        ...,\n",
       "        [0.90930144, 0.09069856],\n",
       "        [0.85394233, 0.14605767],\n",
       "        [0.87863392, 0.12136608]],\n",
       "\n",
       "       [[0.8707311 , 0.1292689 ],\n",
       "        [0.84702603, 0.15297397],\n",
       "        [0.8707311 , 0.1292689 ],\n",
       "        ...,\n",
       "        [0.84702603, 0.15297397],\n",
       "        [0.91021538, 0.08978462],\n",
       "        [0.90176947, 0.09823053]],\n",
       "\n",
       "       ...,\n",
       "\n",
       "       [[0.89397903, 0.10602097],\n",
       "        [0.86871493, 0.13128507],\n",
       "        [0.95272963, 0.04727037],\n",
       "        ...,\n",
       "        [0.86871493, 0.13128507],\n",
       "        [0.89362327, 0.10637673],\n",
       "        [0.88826423, 0.11173577]],\n",
       "\n",
       "       [[0.87471602, 0.12528398],\n",
       "        [0.87471602, 0.12528398],\n",
       "        [0.8574381 , 0.1425619 ],\n",
       "        ...,\n",
       "        [0.85509759, 0.14490241],\n",
       "        [0.85509759, 0.14490241],\n",
       "        [0.90252512, 0.09747488]],\n",
       "\n",
       "       [[0.88545349, 0.11454651],\n",
       "        [0.88320083, 0.11679917],\n",
       "        [0.88545349, 0.11454651],\n",
       "        ...,\n",
       "        [0.87684655, 0.12315345],\n",
       "        [0.88320083, 0.11679917],\n",
       "        [0.85713781, 0.14286219]]])"
      ]
     },
     "execution_count": 43,
     "metadata": {},
     "output_type": "execute_result"
    }
   ],
   "source": [
    "c_hat"
   ]
  },
  {
   "attachments": {},
   "cell_type": "markdown",
   "metadata": {},
   "source": [
    "Learning ..."
   ]
  },
  {
   "cell_type": "code",
   "execution_count": null,
   "metadata": {},
   "outputs": [],
   "source": [
    "epochs: int = 10 # lol."
   ]
  },
  {
   "cell_type": "code",
   "execution_count": null,
   "metadata": {},
   "outputs": [],
   "source": [
    "hmm = HMM(transition_matrix, alpha, processing_modes=[0, 1, 2], rates=rates)"
   ]
  },
  {
   "cell_type": "code",
   "execution_count": null,
   "metadata": {},
   "outputs": [
    {
     "ename": "AttributeError",
     "evalue": "'HMM' object has no attribute 'infer'",
     "output_type": "error",
     "traceback": [
      "\u001B[0;31m---------------------------------------------------------------------------\u001B[0m",
      "\u001B[0;31mAttributeError\u001B[0m                            Traceback (most recent call last)",
      "Cell \u001B[0;32mIn[46], line 2\u001B[0m\n\u001B[1;32m      1\u001B[0m \u001B[39mfor\u001B[39;00m _ \u001B[39min\u001B[39;00m \u001B[39mrange\u001B[39m(epochs):\n\u001B[0;32m----> 2\u001B[0m     joint_prob \u001B[39m=\u001B[39m hmm\u001B[39m.\u001B[39;49minfer(observations)\n\u001B[1;32m      3\u001B[0m     z_hat, c_hat \u001B[39m=\u001B[39m expectation_maximisation_hard_assignment(joint_prob, num_nodes\u001B[39m=\u001B[39mnum_nodes)\n\u001B[1;32m      5\u001B[0m     (\n\u001B[1;32m      6\u001B[0m         lambda_0_hat,\n\u001B[1;32m      7\u001B[0m         lambda_1_hat,\n\u001B[0;32m   (...)\u001B[0m\n\u001B[1;32m     14\u001B[0m         observations[:\u001B[39m-\u001B[39m\u001B[39m1\u001B[39m]\n\u001B[1;32m     15\u001B[0m     )\n",
      "\u001B[0;31mAttributeError\u001B[0m: 'HMM' object has no attribute 'infer'"
     ]
    }
   ],
   "source": [
    "for _ in range(epochs):\n",
    "    joint_prob = hmm.infer(observations)\n",
    "    z_hat, c_hat = expectation_maximisation_hard_assignment(joint_prob, num_nodes=num_nodes)\n",
    "\n",
    "    (\n",
    "        lambda_0_hat,\n",
    "        lambda_1_hat,\n",
    "        learned_alpha,\n",
    "        learned_beta,\n",
    "        learned_gamma\n",
    "    ) = learn_parameters_everything_observed(\n",
    "        c_hat,\n",
    "        z_hat,\n",
    "        observations[:-1]\n",
    "    )\n",
    "\n",
    "    learned_rates = [lambda_0_hat, lambda_1_hat]\n",
    "    learned_transition_matrix = np.array(\n",
    "        [[1 - learned_gamma, 0, learned_gamma],\n",
    "        [0, 1 - learned_gamma, learned_gamma],\n",
    "        [learned_beta / 2, learned_beta / 2, 1 - learned_beta]]\n",
    "    )\n",
    "\n",
    "    hmm = HMM(learned_transition_matrix, alpha=learned_alpha, processing_modes=hmm.states, rates=learned_rates)\n"
   ]
  },
  {
   "cell_type": "code",
   "execution_count": null,
   "metadata": {},
   "outputs": [
    {
     "ename": "",
     "evalue": "",
     "output_type": "error",
     "traceback": [
      "\u001B[1;31mFailed to start the Kernel. \n",
      "\u001B[1;31mCannot execute code, session has been disposed. \n",
      "\u001B[1;31mView Jupyter <a href='command:jupyter.viewOutput'>log</a> for further details."
     ]
    }
   ],
   "source": [
    "learned_joint_prob = hmm.infer(observations)"
   ]
  },
  {
   "cell_type": "code",
   "execution_count": null,
   "metadata": {},
   "outputs": [
    {
     "ename": "",
     "evalue": "",
     "output_type": "error",
     "traceback": [
      "\u001B[1;31mFailed to start the Kernel. \n",
      "\u001B[1;31mCannot execute code, session has been disposed. \n",
      "\u001B[1;31mView Jupyter <a href='command:jupyter.viewOutput'>log</a> for further details."
     ]
    }
   ],
   "source": [
    "marginal_prob_C = np.sum(learned_joint_prob, axis=2)\n",
    "\n",
    "estimated_C = np.argmax(marginal_prob_C, axis=1)\n",
    "estimated_Z = np.zeros((time_steps, num_nodes), dtype=int)\n",
    "\n",
    "for t, c in enumerate(estimated_C):\n",
    "    estimated_Z[t] = hmm.sample_hidden_z(num_nodes, c)\n",
    "\n",
    "correct_C = np.sum(np.equal(estimated_C, true_processing_modes[:-1])) / (time_steps - 1)\n",
    "correct_Z = np.sum(estimated_Z == true_focus) / ((time_steps - 1) * num_nodes)\n",
    "\n",
    "print(f\"Proportion of correct C estimations: {correct_C:.2f}\")\n",
    "print(f\"Proportion of correct Z estimations: {correct_Z:.2f}\")"
   ]
  },
  {
   "cell_type": "code",
   "execution_count": null,
   "metadata": {},
   "outputs": [
    {
     "ename": "",
     "evalue": "",
     "output_type": "error",
     "traceback": [
      "\u001B[1;31mFailed to start the Kernel. \n",
      "\u001B[1;31mCannot execute code, session has been disposed. \n",
      "\u001B[1;31mView Jupyter <a href='command:jupyter.viewOutput'>log</a> for further details."
     ]
    }
   ],
   "source": []
  }
 ],
 "metadata": {
  "kernelspec": {
   "display_name": "hmm",
   "language": "python",
   "name": "python3"
  },
  "language_info": {
   "codemirror_mode": {
    "name": "ipython",
    "version": 3
   },
   "file_extension": ".py",
   "mimetype": "text/x-python",
   "name": "python",
   "nbconvert_exporter": "python",
   "pygments_lexer": "ipython3",
   "version": "3.10.9"
  },
  "orig_nbformat": 4,
  "vscode": {
   "interpreter": {
    "hash": "d4379472f3a660c7857acec9d80a0eff9746fc7b3b3d0fd4e2cf71dae9af0e1f"
   }
  }
 },
 "nbformat": 4,
 "nbformat_minor": 2
}
