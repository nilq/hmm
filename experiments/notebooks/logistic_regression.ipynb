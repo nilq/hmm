{
 "cells": [
  {
   "attachments": {},
   "cell_type": "markdown",
   "metadata": {},
   "source": [
    "### Logistic regression models of $C_t$ given $X$.\n"
   ]
  },
  {
   "cell_type": "code",
   "execution_count": 23,
   "metadata": {},
   "outputs": [],
   "source": [
    "from experiments.simulation import forward_simulation\n",
    "from sklearn.linear_model import LogisticRegression\n",
    "from hmm.types import FloatArray\n",
    "\n",
    "import numpy as np"
   ]
  },
  {
   "cell_type": "code",
   "execution_count": 69,
   "metadata": {},
   "outputs": [],
   "source": [
    "def simulated_c_and_x_data(\n",
    "    n: int,\n",
    "    t: int,\n",
    "    amount_of_data: int\n",
    ") -> tuple[list[list[int]], list[FloatArray]]:\n",
    "    # Datas.\n",
    "    cs, _, xs = forward_simulation(n, t)\n",
    "\n",
    "    for _ in range(1, amount_of_data):\n",
    "        c, _, x = forward_simulation(n, t)\n",
    "\n",
    "        cs += c\n",
    "        xs = np.vstack([xs, x])\n",
    "\n",
    "    return cs, xs"
   ]
  },
  {
   "cell_type": "code",
   "execution_count": null,
   "metadata": {},
   "outputs": [],
   "source": [
    "def fit_logistic_regression_model(n: int, t: int, amount_of_data: int, print_stuff: bool = True, **kwargs) -> tuple[LogisticRegression, float]:\n",
    "    c, x = simulated_c_and_x_data(\n",
    "        n=n,\n",
    "        t=t,\n",
    "        amount_of_data=amount_of_data\n",
    "    )\n",
    "\n",
    "    clf = LogisticRegression(**kwargs).fit(x, c)\n",
    "    accuracy = clf.score(x, c)\n",
    "\n",
    "    if print_stuff:\n",
    "        print(f\"Training accuracy of model (t={t}, n={n}, amount_of_data={amount_of_data}):\", accuracy)\n",
    "\n",
    "    return clf, accuracy"
   ]
  },
  {
   "cell_type": "code",
   "execution_count": 71,
   "metadata": {},
   "outputs": [],
   "source": [
    "model_zoo = {\n",
    "    time_steps: {}\n",
    "}"
   ]
  },
  {
   "cell_type": "code",
   "execution_count": 72,
   "metadata": {},
   "outputs": [],
   "source": []
  },
  {
   "cell_type": "code",
   "execution_count": 74,
   "metadata": {},
   "outputs": [
    {
     "data": {
      "text/plain": [
       "0.955993"
      ]
     },
     "execution_count": 74,
     "metadata": {},
     "output_type": "execute_result"
    }
   ],
   "source": [
    "clf.score(x, c)"
   ]
  },
  {
   "cell_type": "code",
   "execution_count": null,
   "metadata": {},
   "outputs": [],
   "source": []
  }
 ],
 "metadata": {
  "kernelspec": {
   "display_name": "hmm",
   "language": "python",
   "name": "python3"
  },
  "language_info": {
   "codemirror_mode": {
    "name": "ipython",
    "version": 3
   },
   "file_extension": ".py",
   "mimetype": "text/x-python",
   "name": "python",
   "nbconvert_exporter": "python",
   "pygments_lexer": "ipython3",
   "version": "3.10.9"
  },
  "orig_nbformat": 4,
  "vscode": {
   "interpreter": {
    "hash": "d4379472f3a660c7857acec9d80a0eff9746fc7b3b3d0fd4e2cf71dae9af0e1f"
   }
  }
 },
 "nbformat": 4,
 "nbformat_minor": 2
}
