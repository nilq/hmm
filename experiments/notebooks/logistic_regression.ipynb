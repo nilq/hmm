{
 "cells": [
  {
   "attachments": {},
   "cell_type": "markdown",
   "metadata": {},
   "source": [
    "### Logistic regression models of $C_t$ given $\\textbf{X}$.\n"
   ]
  },
  {
   "cell_type": "code",
   "execution_count": 81,
   "metadata": {},
   "outputs": [],
   "source": [
    "from experiments.simulation import forward_simulation\n",
    "from sklearn.linear_model import LogisticRegression\n",
    "from hmm.types import FloatArray\n",
    "\n",
    "import numpy as np"
   ]
  },
  {
   "attachments": {},
   "cell_type": "markdown",
   "metadata": {},
   "source": [
    "Simple function for getting simulated data as sample pairs $((C_1, ..., C_T), \\textbf{X})$"
   ]
  },
  {
   "cell_type": "code",
   "execution_count": 82,
   "metadata": {},
   "outputs": [],
   "source": [
    "def simulated_c_and_x_data(\n",
    "    n: int,\n",
    "    t: int,\n",
    "    amount_of_data: int\n",
    ") -> tuple[list[list[int]], list[FloatArray]]:\n",
    "    # Datas.\n",
    "    cs, _, xs = forward_simulation(n, t)\n",
    "\n",
    "    for _ in range(1, amount_of_data):\n",
    "        c, _, x = forward_simulation(n, t)\n",
    "\n",
    "        cs += c\n",
    "        xs = np.vstack([xs, x])\n",
    "\n",
    "    return cs, xs"
   ]
  },
  {
   "attachments": {},
   "cell_type": "markdown",
   "metadata": {},
   "source": [
    "Fit LR model."
   ]
  },
  {
   "cell_type": "code",
   "execution_count": 83,
   "metadata": {},
   "outputs": [],
   "source": [
    "def fit_logistic_regression_model(n: int, t: int, amount_of_data: int, print_stuff: bool = True, **kwargs) -> tuple[LogisticRegression, float]:\n",
    "    c, x = simulated_c_and_x_data(\n",
    "        n=n,\n",
    "        t=t,\n",
    "        amount_of_data=amount_of_data\n",
    "    )\n",
    "\n",
    "    clf = LogisticRegression(**kwargs).fit(x, c)\n",
    "    accuracy = clf.score(x, c)\n",
    "\n",
    "    if print_stuff:\n",
    "        print(f\"Training accuracy of model (t={t}, n={n}, amount_of_data={amount_of_data}):\", accuracy)\n",
    "\n",
    "    return clf, accuracy"
   ]
  },
  {
   "attachments": {},
   "cell_type": "markdown",
   "metadata": {},
   "source": [
    "We train a few models. Specifically 10."
   ]
  },
  {
   "cell_type": "code",
   "execution_count": null,
   "metadata": {},
   "outputs": [],
   "source": [
    "models = [fit_logistic_regression_model(n=8, t=100, amount_of_data=1000, print_stuff=False) for _ in range(10)]"
   ]
  },
  {
   "attachments": {},
   "cell_type": "markdown",
   "metadata": {},
   "source": [
    "What might the mean accuracy be?"
   ]
  },
  {
   "cell_type": "code",
   "execution_count": 91,
   "metadata": {},
   "outputs": [],
   "source": [
    "mean_train_accuarcy: float = sum(m[1] for m in models) / 10"
   ]
  },
  {
   "attachments": {},
   "cell_type": "markdown",
   "metadata": {},
   "source": [
    "How about test data?"
   ]
  },
  {
   "cell_type": "code",
   "execution_count": 102,
   "metadata": {},
   "outputs": [],
   "source": [
    "c, x = simulated_c_and_x_data(n=8, t=100, amount_of_data=1000)\n",
    "mean_test_accuracy = sum(model.score(x, c) for model, _ in models) / len(models)"
   ]
  },
  {
   "cell_type": "code",
   "execution_count": 103,
   "metadata": {},
   "outputs": [
    {
     "name": "stdout",
     "output_type": "stream",
     "text": [
      "Mean accuracy, training data: 0.956446\n",
      "Mean accuracy, test data: 0.956095\n"
     ]
    }
   ],
   "source": [
    "print(\"Mean accuracy, training data:\", mean_train_accuarcy)\n",
    "print(\"Mean accuracy, test data:\", mean_test_accuracy)"
   ]
  },
  {
   "cell_type": "code",
   "execution_count": null,
   "metadata": {},
   "outputs": [],
   "source": []
  }
 ],
 "metadata": {
  "kernelspec": {
   "display_name": "hmm",
   "language": "python",
   "name": "python3"
  },
  "language_info": {
   "codemirror_mode": {
    "name": "ipython",
    "version": 3
   },
   "file_extension": ".py",
   "mimetype": "text/x-python",
   "name": "python",
   "nbconvert_exporter": "python",
   "pygments_lexer": "ipython3",
   "version": "3.10.9"
  },
  "orig_nbformat": 4,
  "vscode": {
   "interpreter": {
    "hash": "d4379472f3a660c7857acec9d80a0eff9746fc7b3b3d0fd4e2cf71dae9af0e1f"
   }
  }
 },
 "nbformat": 4,
 "nbformat_minor": 2
}
